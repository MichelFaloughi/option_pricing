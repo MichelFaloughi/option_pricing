{
 "cells": [
  {
   "cell_type": "code",
   "execution_count": 34,
   "id": "9a84ff24",
   "metadata": {},
   "outputs": [
    {
     "name": "stdout",
     "output_type": "stream",
     "text": [
      "1 1\n",
      "2 2\n",
      "3 4\n",
      "50 30\n"
     ]
    }
   ],
   "source": [
    "lst = [(1,1), (2,2), (3,4), (50,30)]\n",
    "\n",
    "for height, depth in lst:\n",
    "    print(f'{height} {depth}')\n"
   ]
  },
  {
   "cell_type": "code",
   "execution_count": null,
   "id": "073a84be",
   "metadata": {},
   "outputs": [],
   "source": []
  },
  {
   "cell_type": "code",
   "execution_count": null,
   "id": "18dad246",
   "metadata": {},
   "outputs": [],
   "source": []
  }
 ],
 "metadata": {
  "kernelspec": {
   "display_name": "Python 3",
   "language": "python",
   "name": "python3"
  },
  "language_info": {
   "codemirror_mode": {
    "name": "ipython",
    "version": 3
   },
   "file_extension": ".py",
   "mimetype": "text/x-python",
   "name": "python",
   "nbconvert_exporter": "python",
   "pygments_lexer": "ipython3",
   "version": "3.11.5"
  }
 },
 "nbformat": 4,
 "nbformat_minor": 5
}
