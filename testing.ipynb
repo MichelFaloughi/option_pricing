{
 "cells": [
  {
   "cell_type": "code",
   "execution_count": 27,
   "id": "4897f0ec",
   "metadata": {},
   "outputs": [
    {
     "name": "stdout",
     "output_type": "stream",
     "text": [
      "[1 2 3 4 0 0]\n"
     ]
    }
   ],
   "source": [
    "import numpy as np\n",
    "arr1 = np.array([1,2,3,4,500,600])\n",
    "barrier = 100\n",
    "arr2 = np.array([elem if elem < barrier else 0 for elem in arr1])\n",
    "\n",
    "print(arr2)"
   ]
  },
  {
   "cell_type": "code",
   "execution_count": null,
   "id": "8742ed07",
   "metadata": {},
   "outputs": [
    {
     "name": "stdout",
     "output_type": "stream",
     "text": [
      "[109 108 107 106   0]\n"
     ]
    }
   ],
   "source": [
    "import numpy as np\n",
    "\n",
    "arr1 = np.array([1,2,3,4,500])\n",
    "K = 110\n",
    "\n",
    "\n",
    "func = lambda S: max(0, K - S)\n",
    "func_vectorized = np.vectorize(func)\n",
    "\n",
    "arr2 = func_vectorized(arr1)\n",
    "\n",
    "\n",
    "print(arr2)"
   ]
  },
  {
   "cell_type": "code",
   "execution_count": null,
   "id": "4679a5f5",
   "metadata": {},
   "outputs": [],
   "source": [
    "arr2 = []\n",
    "for elem in arr2[::-1][1:]:\n",
    "    print(elem)\n",
    "\n",
    "# for arr in option_tree[::-1][1:]: # loop backwards from second-to-last level"
   ]
  },
  {
   "cell_type": "code",
   "execution_count": 12,
   "id": "45885e09",
   "metadata": {},
   "outputs": [
    {
     "name": "stdout",
     "output_type": "stream",
     "text": [
      "3\n",
      "2\n",
      "1\n",
      "0\n"
     ]
    }
   ],
   "source": [
    "for i in range(len(arr2) - 1)[::-1]:\n",
    "    print(i)"
   ]
  }
 ],
 "metadata": {
  "kernelspec": {
   "display_name": "Python 3",
   "language": "python",
   "name": "python3"
  },
  "language_info": {
   "codemirror_mode": {
    "name": "ipython",
    "version": 3
   },
   "file_extension": ".py",
   "mimetype": "text/x-python",
   "name": "python",
   "nbconvert_exporter": "python",
   "pygments_lexer": "ipython3",
   "version": "3.11.5"
  }
 },
 "nbformat": 4,
 "nbformat_minor": 5
}
